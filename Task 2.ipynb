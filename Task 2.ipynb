{
 "cells": [
  {
   "cell_type": "markdown",
   "metadata": {},
   "source": [
    "# Task 2\n",
    "## Plotting and drawing"
   ]
  },
  {
   "cell_type": "markdown",
   "metadata": {},
   "source": [
    "Snap gives us an [API](http://snap.stanford.edu/snappy/doc/reference/draw.html) for drawing graphs and plotting their measures which is easy but on the other hand doesn't let us do much customization.\n",
    "\n",
    "Let's try drawing a simple random graph with nodes' IDs as labels"
   ]
  },
  {
   "cell_type": "code",
   "execution_count": 7,
   "metadata": {
    "collapsed": true
   },
   "outputs": [],
   "source": [
    "import snap\n",
    "\n",
    "simpleRandGraph = snap.GenRndGnm(snap.PUNGraph, 30, 80)\n",
    "\n",
    "labels = snap.TIntStrH()\n",
    "for NI in simpleRandGraph.Nodes():\n",
    "    labels[NI.GetId()] = str(NI.GetId())\n",
    "        \n",
    "snap.DrawGViz(simpleRandGraph, snap.gvlNeato, \"simpleRandGraph.png\", \"Simple random graph\", labels)"
   ]
  },
  {
   "cell_type": "markdown",
   "metadata": {},
   "source": [
    "2 files should be generated: \"simpleRandGraph.png\" and \"simpleRandGraph.dot\". The latter is a file in DOT format used by GraphViz tool, which draws graphs for Snap.\n",
    "The second argument lets us change the arrangement of nodes. Feel free to experiment with different values (ones of: gvlDot, gvlNeato, gvlTwopi, gvlCirco, gvlSfdp)"
   ]
  },
  {
   "cell_type": "markdown",
   "metadata": {},
   "source": [
    "Snap supplies us also with some methods ready to use for plotting graphs' measures, e.g.\n",
    "* snap.PlotClustCf - distribution of clustering coefficient\n",
    "* snap.PlotShortPathDistr - distribution of shortest path lengths\n",
    "* snap.PlotEigValDistr - distribution of eigenvalues\n",
    "Snap uses internally pyplot for plotting."
   ]
  },
  {
   "cell_type": "code",
   "execution_count": 9,
   "metadata": {
    "collapsed": true
   },
   "outputs": [],
   "source": [
    "snap.PlotClustCf(simpleRandGraph, \"simpleGraphClustering\", \"Clustering coefficient distribution\")"
   ]
  },
  {
   "cell_type": "markdown",
   "metadata": {},
   "source": [
    "Plotting results in saving 3 files on the disc: with extensions .png, .plt, .tab"
   ]
  },
  {
   "cell_type": "markdown",
   "metadata": {},
   "source": [
    "We often don't want to visualize entire graphs if they're very large, since it's computationally expensive and the result wouldn't be very informative."
   ]
  },
  {
   "cell_type": "markdown",
   "metadata": {},
   "source": [
    "## Task 2a"
   ]
  },
  {
   "cell_type": "markdown",
   "metadata": {},
   "source": [
    "Use the code draft and snap.DrawGViz with [different signature](http://snap.stanford.edu/snappy/doc/reference/DrawGViz1.html) to draw the 3-cores of Pensylvania road net with nodes of different degrees in defferent [colors](http://www.graphviz.org/doc/info/colors.html)."
   ]
  },
  {
   "cell_type": "code",
   "execution_count": null,
   "metadata": {
    "collapsed": true
   },
   "outputs": [],
   "source": [
    "roadsGraph = snap.LoadEdgeList(snap.PUNGraph, \"./data/roadNet-PA.txt\", 0, 1)\n",
    "\n",
    "colors = snap.TIntStrH()\n",
    "colors[3] = \"blue\"\n",
    "colors[4] = \"green\"\n",
    "colors[5] = \"yellow\"\n",
    "colors[6] = \"orange\""
   ]
  },
  {
   "cell_type": "markdown",
   "metadata": {},
   "source": [
    "## Task 2b"
   ]
  },
  {
   "cell_type": "markdown",
   "metadata": {},
   "source": [
    "Plot the distribution of the number of nodes in the graph's k-core for k in [0, 100]"
   ]
  },
  {
   "cell_type": "code",
   "execution_count": null,
   "metadata": {
    "collapsed": true
   },
   "outputs": [],
   "source": [
    "stanfordGraph = snap.LoadEdgeList(snap.PNGraph, \"./data/web-Stanford.txt\", 0, 1)"
   ]
  }
 ],
 "metadata": {
  "kernelspec": {
   "display_name": "Python 2",
   "language": "python",
   "name": "python2"
  },
  "language_info": {
   "codemirror_mode": {
    "name": "ipython",
    "version": 2
   },
   "file_extension": ".py",
   "mimetype": "text/x-python",
   "name": "python",
   "nbconvert_exporter": "python",
   "pygments_lexer": "ipython2",
   "version": "2.7.10"
  }
 },
 "nbformat": 4,
 "nbformat_minor": 0
}
