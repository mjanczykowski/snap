{
 "cells": [
  {
   "cell_type": "markdown",
   "metadata": {},
   "source": [
    "# Task 4\n",
    "## PageRank\n",
    "### Part 1: Tutorial\n",
    "\n",
    "In this example we will calculate pagerank for random graph. GetPageRank method takes two required arguments:\n",
    "* Graph structure\n",
    "* Hashmap of type TIntFltH, that will store pagerank for each node\n",
    "\n",
    "There are also some arguments with default values:\n",
    "* C=0.85 - damping factor\n",
    "* Eps=1e-4 - convergence difference\n",
    "* MaxIter - maximum number of iterations"
   ]
  },
  {
   "cell_type": "code",
   "execution_count": null,
   "metadata": {
    "collapsed": true
   },
   "outputs": [],
   "source": [
    "import snap"
   ]
  },
  {
   "cell_type": "markdown",
   "metadata": {},
   "source": [
    "Create a random directed graph:"
   ]
  },
  {
   "cell_type": "code",
   "execution_count": null,
   "metadata": {
    "collapsed": false
   },
   "outputs": [],
   "source": [
    "G = snap.GenRndGnm(snap.PNGraph, 100, 1000)"
   ]
  },
  {
   "cell_type": "markdown",
   "metadata": {},
   "source": [
    "Now we need the hashmap:"
   ]
  },
  {
   "cell_type": "code",
   "execution_count": null,
   "metadata": {
    "collapsed": true
   },
   "outputs": [],
   "source": [
    "PRankH = snap.TIntFltH()"
   ]
  },
  {
   "cell_type": "markdown",
   "metadata": {},
   "source": [
    "Run the computation:"
   ]
  },
  {
   "cell_type": "code",
   "execution_count": null,
   "metadata": {
    "collapsed": true
   },
   "outputs": [],
   "source": [
    "snap.GetPageRank(G, PRankH)"
   ]
  },
  {
   "cell_type": "markdown",
   "metadata": {},
   "source": [
    "Let's sort results by value descending:"
   ]
  },
  {
   "cell_type": "code",
   "execution_count": null,
   "metadata": {
    "collapsed": false
   },
   "outputs": [],
   "source": [
    "PRankH.SortByDat(False)"
   ]
  },
  {
   "cell_type": "markdown",
   "metadata": {},
   "source": [
    "and print top 30:"
   ]
  },
  {
   "cell_type": "code",
   "execution_count": null,
   "metadata": {
    "collapsed": false
   },
   "outputs": [],
   "source": [
    "i = 0\n",
    "print \"node:\\tpagerank:\"\n",
    "for item in PRankH:\n",
    "    print item, \"\\t\", PRankH[item]\n",
    "    if i >= 30:\n",
    "        break\n",
    "    i += 1"
   ]
  },
  {
   "cell_type": "markdown",
   "metadata": {},
   "source": [
    "### Part 2 - Exercise\n",
    "\n",
    "Calculate PageRank for datasets:\n",
    "* web-Stanford - Web graph of Stanford.edu (281,903 nodes, 2,312,497 edges)\n",
    "* roadNet-PA - Road network of Pennsylvania (1,088,092 nodes, 1,541,898 edges)\n",
    "* web-BerkStan - Web graph of Berkeley and Stanford (685,230 nodes, 7,600,595 edges) <b>NOTE:</b> file is gzipped!\n",
    "\n",
    "<ol>\n",
    "<li>Compare 30 max and 30 min values for each dataset. What can we tell about each network?\n",
    "<li>Choose one dataset and check results for different C values (from 0.0 to 1.0). NOTE: C is the third argument of GetPageRank() but do not name it, i.e. use snap.GetPageRank(G, PRankH, 0.85)\n",
    "</ol>"
   ]
  },
  {
   "cell_type": "code",
   "execution_count": null,
   "metadata": {
    "collapsed": true
   },
   "outputs": [],
   "source": [
    "# NOTE: loading sets takes much time!\n",
    "G_stan = snap.LoadEdgeList(snap.PNGraph, \"data/web-Stanford.txt\", 0, 1)\n",
    "G_rdnet = snap.LoadEdgeList(snap.PUNGraph, \"data/roadNet-PA.txt\", 0, 1)\n",
    "G_berkstan = snap.LoadEdgeList(snap.PNGraph, \"data/web-BerkStan.txt\", 0, 1) #UNZIP FIRST!!!"
   ]
  },
  {
   "cell_type": "code",
   "execution_count": null,
   "metadata": {
    "collapsed": true
   },
   "outputs": [],
   "source": []
  }
 ],
 "metadata": {
  "kernelspec": {
   "display_name": "Python 2",
   "language": "python",
   "name": "python2"
  },
  "language_info": {
   "codemirror_mode": {
    "name": "ipython",
    "version": 2
   },
   "file_extension": ".py",
   "mimetype": "text/x-python",
   "name": "python",
   "nbconvert_exporter": "python",
   "pygments_lexer": "ipython2",
   "version": "2.7.10"
  }
 },
 "nbformat": 4,
 "nbformat_minor": 0
}
