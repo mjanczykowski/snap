{
 "cells": [
  {
   "cell_type": "markdown",
   "metadata": {},
   "source": [
    "# Task 1\n",
    "## Basic graph statistics\n",
    "### Part 1: Tutorial\n",
    "\n",
    "First, we need to import pyplot and the library itself:\n"
   ]
  },
  {
   "cell_type": "code",
   "execution_count": null,
   "metadata": {
    "collapsed": true
   },
   "outputs": [],
   "source": [
    "import snap\n",
    "from matplotlib import pyplot as plt\n",
    "%matplotlib inline"
   ]
  },
  {
   "cell_type": "markdown",
   "metadata": {},
   "source": [
    "Let's create a random graph with 100 vertices and 1 000 edges:"
   ]
  },
  {
   "cell_type": "code",
   "execution_count": null,
   "metadata": {
    "collapsed": true
   },
   "outputs": [],
   "source": [
    "g = snap.GenRndGnm(snap.PUNGraph, 100, 1000)"
   ]
  },
  {
   "cell_type": "markdown",
   "metadata": {},
   "source": [
    "#### Degree distribution:\n",
    "\n",
    "Now, let's compute degree distribution pairs:"
   ]
  },
  {
   "cell_type": "code",
   "execution_count": null,
   "metadata": {
    "collapsed": true
   },
   "outputs": [],
   "source": [
    "count_vec = snap.TIntPrV()\n",
    "snap.GetOutDegCnt(g, count_vec)"
   ]
  },
  {
   "cell_type": "markdown",
   "metadata": {},
   "source": [
    "And print the distribution:"
   ]
  },
  {
   "cell_type": "code",
   "execution_count": null,
   "metadata": {
    "collapsed": false,
    "scrolled": false
   },
   "outputs": [],
   "source": [
    "for p in count_vec:\n",
    "     print \"degree %d: count %d\" % (p.GetVal1(), p.GetVal2())"
   ]
  },
  {
   "cell_type": "markdown",
   "metadata": {},
   "source": [
    "Let's plot it:"
   ]
  },
  {
   "cell_type": "code",
   "execution_count": null,
   "metadata": {
    "collapsed": false,
    "scrolled": true
   },
   "outputs": [],
   "source": [
    "x = [int(p.GetVal1()) for p in count_vec]\n",
    "y = [int(p.GetVal2()) for p in count_vec]\n",
    "    \n",
    "plt.bar(x, y)\n",
    "plt.show()"
   ]
  },
  {
   "cell_type": "markdown",
   "metadata": {
    "collapsed": true
   },
   "source": [
    "#### Clustering coefficient:\n",
    "\n",
    "Now, let's calculate the degree - local clustering coefficient for all nodes in this graph.\n",
    "\n",
    "You need to declare a new float vector for the result:"
   ]
  },
  {
   "cell_type": "code",
   "execution_count": null,
   "metadata": {
    "collapsed": false
   },
   "outputs": [],
   "source": [
    "clustering_vec = snap.TFltPrV()"
   ]
  },
  {
   "cell_type": "markdown",
   "metadata": {},
   "source": [
    "And now calculate the average coefficient and the distribution itself:"
   ]
  },
  {
   "cell_type": "code",
   "execution_count": null,
   "metadata": {
    "collapsed": false,
    "scrolled": false
   },
   "outputs": [],
   "source": [
    "avg_cf = snap.GetClustCf(g, clustering_vec)"
   ]
  },
  {
   "cell_type": "markdown",
   "metadata": {},
   "source": [
    "Let's print it out:"
   ]
  },
  {
   "cell_type": "code",
   "execution_count": null,
   "metadata": {
    "collapsed": false
   },
   "outputs": [],
   "source": [
    "print \"Average clustering coefficient:\", avg_cf\n",
    "print\n",
    "for pair in clustering_vec:\n",
    "    print \"degree: %d, clustering coefficient: %f\" % (pair.GetVal1(), pair.GetVal2())"
   ]
  },
  {
   "cell_type": "markdown",
   "metadata": {},
   "source": [
    "Let's plot the degree-clustering coefficient distribution:"
   ]
  },
  {
   "cell_type": "code",
   "execution_count": null,
   "metadata": {
    "collapsed": false
   },
   "outputs": [],
   "source": [
    "x = [int(p.GetVal1()) for p in clustering_vec]\n",
    "y = [p.GetVal2() for p in clustering_vec]\n",
    "    \n",
    "plt.bar(x, y)\n",
    "plt.show()"
   ]
  },
  {
   "cell_type": "markdown",
   "metadata": {},
   "source": [
    "#### Degree centrality:\n",
    "\n",
    "We actually calculated the degree centrality already (see the degree distribution point). But snap itself has the ability to calculate it and normalize it into [0, 1]. Let's calculate this and plot:"
   ]
  },
  {
   "cell_type": "code",
   "execution_count": null,
   "metadata": {
    "collapsed": false
   },
   "outputs": [],
   "source": [
    "x = []\n",
    "y = []\n",
    "for node in g.Nodes():\n",
    "    deg_centrality = snap.GetDegreeCentr(g, node.GetId())\n",
    "    print \"node: %d centrality: %f\" % (node.GetId(), deg_centrality)\n",
    "    x.append(node.GetId())\n",
    "    y.append(deg_centrality)\n",
    "\n",
    "plt.bar(x, y)\n",
    "plt.show()"
   ]
  },
  {
   "cell_type": "markdown",
   "metadata": {},
   "source": [
    "#### Closeness and farness centrality:\n",
    "\n",
    "We calculate these centralities for every node in our random graph and then plot:"
   ]
  },
  {
   "cell_type": "code",
   "execution_count": null,
   "metadata": {
    "collapsed": false,
    "scrolled": false
   },
   "outputs": [],
   "source": [
    "x = []\n",
    "yc = []\n",
    "yf = []\n",
    "\n",
    "for node in g.Nodes():\n",
    "    farness = snap.GetFarnessCentr(g, node.GetId())\n",
    "    closeness = snap.GetClosenessCentr(g, node.GetId())\n",
    "    print \"node: %d closeness: %f farness: %f\" % (node.GetId(), closeness, farness)\n",
    "    x.append(node.GetId())\n",
    "    yc.append(closeness)\n",
    "    yf.append(farness)\n",
    "    \n",
    "plt.bar(x, yc)\n",
    "plt.show()\n",
    "plt.bar(x, yf)\n",
    "plt.show()"
   ]
  },
  {
   "cell_type": "markdown",
   "metadata": {},
   "source": [
    "#### Betweenness centrality:\n",
    "\n",
    "For the betweenness centrality, you actually have to get the centralities for all vertices.\n",
    "\n",
    "Snap function calculates the centralities for both nodes and edges.\n",
    "\n",
    "Let's create the hash tables for nodes and edges to compute the centralities:"
   ]
  },
  {
   "cell_type": "code",
   "execution_count": null,
   "metadata": {
    "collapsed": true
   },
   "outputs": [],
   "source": [
    "nodes_btw_centr = snap.TIntFltH()\n",
    "edges_btw_centr = snap.TIntPrFltH()"
   ]
  },
  {
   "cell_type": "markdown",
   "metadata": {},
   "source": [
    "Now, let's calculate the betweenness centrality for the nodes:"
   ]
  },
  {
   "cell_type": "code",
   "execution_count": null,
   "metadata": {
    "collapsed": true
   },
   "outputs": [],
   "source": [
    "snap.GetBetweennessCentr(g, nodes_btw_centr, edges_btw_centr, 1.0) "
   ]
  },
  {
   "cell_type": "markdown",
   "metadata": {},
   "source": [
    "The last parameter tells snap how much to approximate the value (1.0 means the actual value, less number means worse quality of the measure).\n",
    "\n",
    "Let's print out and plot the centrality:"
   ]
  },
  {
   "cell_type": "code",
   "execution_count": null,
   "metadata": {
    "collapsed": false
   },
   "outputs": [],
   "source": [
    "x = [node for node in nodes_btw_centr]\n",
    "y = [nodes_btw_centr[node] for node in nodes_btw_centr]\n",
    "\n",
    "for i in range(len(x)):\n",
    "    print 'Node %d centrality %f' % (x[i], y[i])\n",
    "\n",
    "plt.bar(x, y)\n",
    "plt.show()"
   ]
  },
  {
   "cell_type": "markdown",
   "metadata": {},
   "source": [
    "#### Eigenvector centrality:\n",
    "\n",
    "The calculation of the eigenvector centarlity is very similar to the betweenness centrality:"
   ]
  },
  {
   "cell_type": "code",
   "execution_count": null,
   "metadata": {
    "collapsed": true
   },
   "outputs": [],
   "source": [
    "nodes_eig_centr = snap.TIntFltH()\n",
    "snap.GetEigenVectorCentr(g, nodes_eig_centr)"
   ]
  },
  {
   "cell_type": "markdown",
   "metadata": {},
   "source": [
    "Let's print it out and plot:"
   ]
  },
  {
   "cell_type": "code",
   "execution_count": null,
   "metadata": {
    "collapsed": false
   },
   "outputs": [],
   "source": [
    "x = [node for node in nodes_eig_centr]\n",
    "y = [nodes_eig_centr[node] for node in nodes_eig_centr]\n",
    "\n",
    "for i in range(len(x)):\n",
    "    print 'Node %d centrality %f' % (x[i], y[i])\n",
    "\n",
    "plt.bar(x, y)\n",
    "plt.show()"
   ]
  },
  {
   "cell_type": "markdown",
   "metadata": {},
   "source": [
    "### Part 2: Task\n",
    "\n",
    "For the graphs: web-Stanford and roadNet-PA:\n",
    "\n",
    "* calculate the average clustering coefficient (*),\n",
    "* calculate the degree distribution and plot it,\n",
    "* calculate all the centrality measures (without betweenness centrality) mentioned above for every 1000 (Stanford) or 10000 (PA) node, print it and plot.\n",
    "\n",
    "(*) for the clustering coefficient use the snap function:\n",
    "\n",
    "```avg_coeff = snap.GetClustCf(graph)```\n",
    "\n",
    "We load the graphs for you below:"
   ]
  },
  {
   "cell_type": "code",
   "execution_count": null,
   "metadata": {
    "collapsed": false
   },
   "outputs": [],
   "source": [
    "g1 = snap.LoadEdgeList(snap.PUNGraph, \"./data/web-Stanford.txt\", 0, 1)\n",
    "g2 = snap.LoadEdgeList(snap.PUNGraph, \"./data/roadNet-PA.txt\", 0, 1)"
   ]
  },
  {
   "cell_type": "code",
   "execution_count": null,
   "metadata": {
    "collapsed": true
   },
   "outputs": [],
   "source": []
  }
 ],
 "metadata": {
  "kernelspec": {
   "display_name": "Python 2",
   "language": "python",
   "name": "python2"
  },
  "language_info": {
   "codemirror_mode": {
    "name": "ipython",
    "version": 2
   },
   "file_extension": ".py",
   "mimetype": "text/x-python",
   "name": "python",
   "nbconvert_exporter": "python",
   "pygments_lexer": "ipython2",
   "version": "2.7.10"
  }
 },
 "nbformat": 4,
 "nbformat_minor": 0
}
