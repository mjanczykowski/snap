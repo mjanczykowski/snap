{
 "cells": [
  {
   "cell_type": "markdown",
   "metadata": {},
   "source": [
    "# Task 3\n",
    "## Community Detection\n",
    "### Part 1: Tutorial\n",
    "\n",
    "Import snap and pyplot:\n"
   ]
  },
  {
   "cell_type": "code",
   "execution_count": null,
   "metadata": {
    "collapsed": true
   },
   "outputs": [],
   "source": [
    "import snap\n",
    "from matplotlib import pyplot as plt\n",
    "%matplotlib inline"
   ]
  },
  {
   "cell_type": "markdown",
   "metadata": {},
   "source": [
    "We will use CommunityCNM function (http://snap.stanford.edu/snappy/doc/reference/CommunityCNM.html).\n",
    "It requires an undirected graph and an empty vector of type TCnComV, where the algorithm will put lists of all nodes per community. It returns graph modularity.\n",
    "\n",
    "First, create an empty vector of connected components:"
   ]
  },
  {
   "cell_type": "code",
   "execution_count": null,
   "metadata": {
    "collapsed": true
   },
   "outputs": [],
   "source": [
    "CmtyV = snap.TCnComV()"
   ]
  },
  {
   "cell_type": "markdown",
   "metadata": {},
   "source": [
    "Now, we will generate a random graph:"
   ]
  },
  {
   "cell_type": "code",
   "execution_count": null,
   "metadata": {
    "collapsed": true
   },
   "outputs": [],
   "source": [
    "G = snap.GenRndGnm(snap.PUNGraph, 100, 1000)"
   ]
  },
  {
   "cell_type": "markdown",
   "metadata": {},
   "source": [
    "We can print some information about out graph:"
   ]
  },
  {
   "cell_type": "code",
   "execution_count": null,
   "metadata": {
    "collapsed": true
   },
   "outputs": [],
   "source": [
    "snap.PrintInfo(G)"
   ]
  },
  {
   "cell_type": "markdown",
   "metadata": {},
   "source": [
    "Let's run community detection:"
   ]
  },
  {
   "cell_type": "code",
   "execution_count": null,
   "metadata": {
    "collapsed": false
   },
   "outputs": [],
   "source": [
    "modularity = snap.CommunityCNM(G, CmtyV)\n"
   ]
  },
  {
   "cell_type": "markdown",
   "metadata": {},
   "source": [
    "So what is the modularity value? Note: modularity above 0.3 tells us, the graph probably has some strong communities."
   ]
  },
  {
   "cell_type": "code",
   "execution_count": null,
   "metadata": {
    "collapsed": false
   },
   "outputs": [],
   "source": [
    "print \"Graph modularity: \", modularity"
   ]
  },
  {
   "cell_type": "markdown",
   "metadata": {},
   "source": [
    "We can also print list of nodes for each identified community:"
   ]
  },
  {
   "cell_type": "code",
   "execution_count": null,
   "metadata": {
    "collapsed": false
   },
   "outputs": [],
   "source": [
    "for Cmty in CmtyV:\n",
    "    print \"Community: \"\n",
    "    for NI in Cmty:\n",
    "        print NI,\n",
    "    print"
   ]
  },
  {
   "cell_type": "markdown",
   "metadata": {},
   "source": [
    "### Part 2 - Exercise\n",
    "\n",
    "Test community detection for:\n",
    "* larger random graphs (rather don't try with more then 100,000 edges)\n",
    "* ego-Facebook - social circles from Facebook (4,039 nodes, 88,234 edges)\n",
    "* wiki-vote - Wikipedia who-votes-on-whom network (7,115 nodes, 103,689 eges)\n",
    "* email-Enron - Email communication network from Enron (36,692 nodes, 367,662 edges) - <b>NOTE:</b> may take a few minutes!\n",
    "<ol>\n",
    "<li>How many communities were found for each network?\n",
    "<li>What is modularity value for each network? What can we tell about those networks based on these results?\n",
    "<li>Create a bar plot presenting number of nodes inside each community. Are the communities balanced?\n",
    "</ol>"
   ]
  },
  {
   "cell_type": "code",
   "execution_count": null,
   "metadata": {
    "collapsed": true
   },
   "outputs": [],
   "source": [
    "G_rand = snap.GenRndGnm(snap.PUNGraph, 10000, 50000)\n",
    "G_fb = snap.LoadEdgeList(snap.PUNGraph, \"data/facebook_combined.txt\", 0, 1)\n",
    "G_wiki = snap.LoadEdgeList(snap.PUNGraph, \"data/Wiki-Vote.txt\", 0, 1)\n",
    "G_email = snap.LoadEdgeList(snap.PUNGraph, \"data/Email-Enron.txt\", 0, 1)"
   ]
  },
  {
   "cell_type": "code",
   "execution_count": null,
   "metadata": {
    "collapsed": true
   },
   "outputs": [],
   "source": [
    "\n"
   ]
  }
 ],
 "metadata": {
  "kernelspec": {
   "display_name": "Python 2",
   "language": "python",
   "name": "python2"
  },
  "language_info": {
   "codemirror_mode": {
    "name": "ipython",
    "version": 2
   },
   "file_extension": ".py",
   "mimetype": "text/x-python",
   "name": "python",
   "nbconvert_exporter": "python",
   "pygments_lexer": "ipython2",
   "version": "2.7.10"
  }
 },
 "nbformat": 4,
 "nbformat_minor": 0
}
